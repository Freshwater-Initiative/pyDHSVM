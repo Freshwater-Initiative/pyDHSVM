{
 "cells": [
  {
   "cell_type": "markdown",
   "metadata": {},
   "source": [
    "\n",
    "# Sauk-Suiattle Sediment Model\n",
    "\n",
    "This data is compiled to digitally observe the Skagit Watershed, powered by HydroShare. <br />\n",
    "<img src= \"http://www.sauk-suiattle.com/images/Elliott.jpg\"\n",
    "style=\"float:left;width:175px;padding:20px\">   \n",
    "<br />\n",
    "This is a beta version of a computational network-based sediment model was developed in order to connect processes of sediment supply on hillslopes, routing in streams, and deposition in reservoirs. The sediment model is developed in a framework called Landlab and driven by a physically-based, distributed hydrology model called DHSVM. The coupled sediment-hydrology model is designed to integrate relevant temporal and spatial scales of hillslope geomorphology, hydroclimatology and river network processes along with answering questions that are relevant to engineering application. The coupled model framework is designed to be applicable in other global watersheds, and could be useful for predicting sediment budgets particularly in the face of environmental and land use/land cover changes. \n",
    "<br /> <img src=\"https://www.washington.edu/brand/files/2014/09/W-Logo_Purple_Hex.png\" style=\"float:right;width:120px;padding:20px\">  \n",
    "<br />\n",
    "#### A Watershed Dynamics Model by the Watershed Dynamics Research Group in the Civil and Environmental Engineering Department at the University of Washington "
   ]
  },
  {
   "cell_type": "markdown",
   "metadata": {},
   "source": [
    "[Erkan To DO - -  add citations to Claire's AGU presentations and DOE report, Landlab paper, DHSVM-PNNL repo, others?]"
   ]
  },
  {
   "cell_type": "markdown",
   "metadata": {},
   "source": [
    "## To run this notebook:\n",
    "\n",
    "Click in each shaded cell below and \"shift + enter\" to run each code block. Alternatively, you can run groups of cells by clicking \"Cell\" on the menu above and selecting your run options from the pull-down menu. This is also where you can clear outputs from previous runs.\n",
    "\n",
    "If an error occurs, click on *Kernal* and *Restart and Clear Outputs* in the menu above."
   ]
  },
  {
   "cell_type": "markdown",
   "metadata": {},
   "source": [
    "## 1. Introduction\n",
    "Sediment discharge, its frequency and magnitude, and the size distribution of sediment load vary in space and time in a river. Sediment input into channels can be dominated by a single source such as a stratovolcano (e.g., Glacier Peak), or can be from distributed sources on hillslopes and zero-order basins, as well as from the banks of the channel itself through bank erosion.  Sediment is either transported within the flow as suspended load or transported along the riverbed as bedload. Suspended sediment includes sediments that are transported in suspension as a result of flow shear stress. It is composed of wash load (mostly clay and silt that is more or less continually in suspension) and suspension from bedload during higher flow; bed material in suspension includes coarse silt and sand that may move as bed load during lower flow. Bedload is generally assumed to represent 10% (or more generally in the 5% to 20% range) of the total sediment load. This percentage also depends on the location in the channel network and the type of watershed soil type. The suspended sediment load varies with discharge, often increasing nonlinearly as discharge rises because the greater turbulence associated with higher discharge allows a greater load of sediment to be held in suspension. \n",
    "\n",
    "<br /> <img src=\"https://www.hydroshare.org/resource/d5f1f96849554e03aa98bed5aff36cf7/data/contents/SedimentConcentrationbyVolume_Jakob_Jordon_2001.JPG\" style=\"float:center;width:700px;padding:40px\">\n",
    "\n",
    "Figure 1. Classification of sediment flow processes with respect to sediment concentration, velocity, and process domains (modified from Jakob and Jordan, 2001).\n",
    "\n",
    "Two related questions of interest for predicting erosion rates and sediment yields in the Puget Sound region are:  \n",
    "\n",
    "1)\tDo rivers that drain stratovolcanos and retreating glaciers exhibit larger erosion rates, and how modern and long-term erosion rates compare? \n",
    "\n",
    "2)\tCan a single suspendend sediment transport relationship predict loads across Puget Sound basins?\n",
    "\n",
    "In stratovolcanoes in high Alpine areas like Glacier Peak, a large portion of the loose pyroclastic deposits (clastic rock formed by volcanic explosion or ejected from a volcanic vent) are eroded by glaciers. Currently there are over a dozen glaciers on the sides of this volcano. In the model developed in this Notebook, we highlight network sediment results from seven glaciers; five in the Headwater Suiattle River (HUC 171100060201) including Dusty, Chocolate, Cool, Suiattle, and Honeycomb Glaciers and two in the Miners Creek Suiattle River (HUC 171100060202) including Vista and Ermine Glaciers. "
   ]
  },
  {
   "cell_type": "markdown",
   "metadata": {},
   "source": [
    "## 2.0 Methods"
   ]
  },
  {
   "cell_type": "markdown",
   "metadata": {},
   "source": [
    "### 2.1. Install Python packages and libraries \n",
    "The CUAHSI JupyterHub server provides many Python packages and libraries, but to add additional libraries to your personal user space, use the cell below.  To request an Installation to the server, visit https://github.com/hydroshare/hydroshare-jupyterhub, create a New Issue, and add the label 'Installation Request'. Uncomment the lines below to install the library. Python2 and Python3 kernels are both available. If you are a new Landlab user on Hydroshare you are advised to run the code block below in your first run of this tutorial, then comment them out."
   ]
  },
  {
   "cell_type": "code",
   "execution_count": 1,
   "metadata": {},
   "outputs": [
    {
     "name": "stdout",
     "output_type": "stream",
     "text": [
      "Adding the following system variables:\n",
      "   HS_USR_NAME = ChristinaBandaragoda\n",
      "   HS_RES_ID = d5f1f96849554e03aa98bed5aff36cf7\n",
      "   HS_RES_TYPE = compositeresource\n",
      "   JUPYTER_HUB_IP = jupyter.cuahsi.org\n",
      "\n",
      "These can be accessed using the following command: \n",
      "   os.environ[key]\n",
      "\n",
      "   (e.g.)\n",
      "   os.environ[\"HS_USR_NAME\"]  => ChristinaBandaragoda\n",
      "\n",
      "The hs_utils library requires a secure connection to your HydroShare account.\n",
      "Enter the HydroShare password for user 'ChristinaBandaragoda': ········\n",
      "Successfully established a connection with HydroShare\n"
     ]
    }
   ],
   "source": [
    "#%% Import modules and define functions\n",
    "import os\n",
    "import csv\n",
    "import pandas as pd\n",
    "import datetime\n",
    "import time\n",
    "import matplotlib.pyplot as plt\n",
    "import numpy as np\n",
    "import pickle\n",
    "import scipy.stats\n",
    "\n",
    "#Import utilities for importing and exporting to HydroShare\n",
    "from utilities import hydroshare\n",
    "hs=hydroshare.hydroshare()\n",
    "import ogh\n",
    "# path and directory management# path  \n",
    "import os\n",
    "\n"
   ]
  },
  {
   "cell_type": "code",
   "execution_count": 2,
   "metadata": {},
   "outputs": [
    {
     "name": "stdout",
     "output_type": "stream",
     "text": [
      "Adding the following system variables:\n",
      "   HS_USR_NAME = ChristinaBandaragoda\n",
      "   HS_RES_ID = d5f1f96849554e03aa98bed5aff36cf7\n",
      "   HS_RES_TYPE = compositeresource\n",
      "   JUPYTER_HUB_IP = jupyter.cuahsi.org\n",
      "\n",
      "These can be accessed using the following command: \n",
      "   os.environ[key]\n",
      "\n",
      "   (e.g.)\n",
      "   os.environ[\"HS_USR_NAME\"]  => ChristinaBandaragoda\n",
      "Successfully established a connection with HydroShare\n",
      "Data will be loaded from and saved to:/home/jovyan/work/notebooks/data/d5f1f96849554e03aa98bed5aff36cf7/d5f1f96849554e03aa98bed5aff36cf7/data/contents\n"
     ]
    }
   ],
   "source": [
    "hs=hydroshare.hydroshare()\n",
    "homedir = ogh.mapContentFolder(str(os.environ[\"HS_RES_ID\"]))\n",
    "print('Data will be loaded from and saved to:'+homedir)"
   ]
  },
  {
   "cell_type": "code",
   "execution_count": 3,
   "metadata": {},
   "outputs": [
    {
     "name": "stdout",
     "output_type": "stream",
     "text": [
      "Data will be loaded from and save to:/home/jovyan/work/notebooks/data/d5f1f96849554e03aa98bed5aff36cf7/d5f1f96849554e03aa98bed5aff36cf7/data/contents\n"
     ]
    }
   ],
   "source": [
    "#homedir = hs.getContentPath(os.environ[\"HS_RES_ID\"])\n",
    "homedir = '/home/jovyan/work/notebooks/data/d5f1f96849554e03aa98bed5aff36cf7/d5f1f96849554e03aa98bed5aff36cf7/data/contents'\n",
    "os.chdir(homedir)\n",
    "print('Data will be loaded from and save to:'+homedir)"
   ]
  },
  {
   "cell_type": "markdown",
   "metadata": {},
   "source": [
    "### 2.2 Import DHSVM network files and modeled streamflow "
   ]
  },
  {
   "cell_type": "code",
   "execution_count": 4,
   "metadata": {},
   "outputs": [],
   "source": [
    "# GIS file developed from https://github.com/pnnl/DHSVM-PNNL/tree/master/CreateStreamNetwork_PythonV\n",
    "# Note for Zhuoron: This code needs it's own citation and reference\n",
    "network_input = os.path.join(homedir, 'streamfile_2km2_sauk.txt')\n",
    "# DHSVM model inputs\n",
    "networkdat_input='stream.network.dat'\n",
    "map_input='stream.map.dat'"
   ]
  },
  {
   "cell_type": "markdown",
   "metadata": {},
   "source": [
    "#### Run following cells to import extract and copy DHSVM temperature model Outflow.Only files on HydroShare"
   ]
  },
  {
   "cell_type": "code",
   "execution_count": null,
   "metadata": {},
   "outputs": [],
   "source": [
    "#hs.getResourceFromHydroShare('f16bdb504c6a4fb39e80ff1070a86704')"
   ]
  },
  {
   "cell_type": "code",
   "execution_count": 15,
   "metadata": {},
   "outputs": [],
   "source": [
    "#!gunzip /home/jovyan/work/notebooks/data/f16bdb504c6a4fb39e80ff1070a86704/f16bdb504c6a4fb39e80ff1070a86704/data/contents/*/*"
   ]
  },
  {
   "cell_type": "code",
   "execution_count": 16,
   "metadata": {},
   "outputs": [],
   "source": [
    "#!cp /home/jovyan/work/notebooks/data/f16bdb504c6a4fb39e80ff1070a86704/f16bdb504c6a4fb39e80ff1070a86704/data/contents/Sauk_1969-2001_biasLivneh_WRF_TH8-WhiteTH15_mu12.8_his/Outflow.Only ."
   ]
  },
  {
   "cell_type": "code",
   "execution_count": 4,
   "metadata": {},
   "outputs": [],
   "source": [
    "# DHSVM model output  - flow at each stream node\n",
    "#streamflow_input='Outflow.Only'"
   ]
  },
  {
   "cell_type": "markdown",
   "metadata": {},
   "source": [
    "## Make an array from modeled streamflow spreadsheets"
   ]
  },
  {
   "cell_type": "code",
   "execution_count": 12,
   "metadata": {},
   "outputs": [],
   "source": [
    "forcing_start_date=datetime.date(1961,1,1)\n",
    "forcing_end_date=datetime.date(2099,9,30)\n",
    "time0=pd.date_range(start=forcing_start_date, end=forcing_end_date, freq='D')\n",
    "\n",
    "\n",
    "forcing_start_date=datetime.date(1961,1,1)\n",
    "forcing_end_date=datetime.date(2010,12,31)\n",
    "time1=pd.date_range(start=forcing_start_date, end=forcing_end_date, freq='D')\n",
    "\n",
    "forcing_start_date=datetime.date(2000,1,1)\n",
    "forcing_end_date=datetime.date(2050,12,31)\n",
    "time2=pd.date_range(start=forcing_start_date, end=forcing_end_date, freq='D')\n",
    "\n",
    "forcing_start_date=datetime.date(2025,1,1)\n",
    "forcing_end_date=datetime.date(2075,12,31)\n",
    "time3=pd.date_range(start=forcing_start_date, end=forcing_end_date, freq='D')\n",
    "\n",
    "forcing_start_date=datetime.date(2050,1,1)\n",
    "forcing_end_date=datetime.date(2099,9,30)\n",
    "time4=pd.date_range(start=forcing_start_date, end=forcing_end_date, freq='D')\n"
   ]
  },
  {
   "cell_type": "code",
   "execution_count": 18,
   "metadata": {},
   "outputs": [],
   "source": [
    "#Details from DHSVM Network model input\n",
    "#    1  57     0.00107         750.00000   6      -1 SAVE \"outlet\"\n",
    "#   19  53     0.00237        6368.37662  12       5 SAVE \"12189500\"\n",
    "#  187  30     0.00546        4945.58441  12     147 SAVE \"12187500\"\n",
    "#  224   7     0.01904        1722.79221  18     207 SAVE \"12187000\"\n",
    "#  257  18     0.02688        1536.39610  18     255 SAVE \"12186500\"\n",
    "        \n",
    "#DHSVM network link\n",
    "outlet=1\n",
    "middlesauk=187   #Sauk River near Darrington NWISDV:12187500\n",
    "lowersauk_dhsvmid=19  #Sauk River near Sauk NWISDV:12189500  PNNL-Python code link 20; (AML code link 19)\n",
    "lowersauk_pnnl_area=20\n",
    "\n",
    "#DHSVM network link - other locations\n",
    "suiattleglacier=368\n",
    "SaukaboveWhiteChuck=279  \n",
    "SaukWhiteChuck=263\n",
    "headwaters=260\n"
   ]
  },
  {
   "cell_type": "code",
   "execution_count": 19,
   "metadata": {},
   "outputs": [
    {
     "name": "stdout",
     "output_type": "stream",
     "text": [
      "1905.0\n",
      "1866.0\n",
      "772.0\n"
     ]
    }
   ],
   "source": [
    "DHSVMnetwork=pd.read_table(network_input)\n",
    "area_o=DHSVMnetwork.total_ca_mean[outlet-1]/1000000\n",
    "area_low=DHSVMnetwork.total_ca_mean[lowersauk_pnnl_area-1]/1000000\n",
    "area_mid=DHSVMnetwork.total_ca_mean[middlesauk-1]/1000000\n",
    "print(round(area_o,0))\n",
    "print(round(area_low,0))\n",
    "print(round(area_mid,0))"
   ]
  },
  {
   "cell_type": "code",
   "execution_count": 70,
   "metadata": {},
   "outputs": [],
   "source": [
    "def suspsedtransport(df,time,b0,b1,bcf,area,location):\n",
    "    df['Date']=pd.to_datetime(df.Year.astype(str) + '-' + df.Month.astype(str) + '-' + df.Day.astype(str))\n",
    "    df=df.set_index('Date')\n",
    "    df_cms=df.loc[time].drop(['Year','Month','Day'],axis=1)*0.028316846592 \n",
    "    s=(b0*df_cms**b1)*bcf   #tons per day\n",
    "    total_suspsed_T=s.cumsum(axis=0).iloc[-1:] #Total tons in period\n",
    "    total_suspsed_A=total_suspsed_T/(len(time)/365) #Total tons/year\n",
    "    total_suspsed_Y=total_suspsed_A/area  #mean annual tons/sqkm\n",
    "    Q_max=pd.DataFrame(df_cms.max(axis=0)).T\n",
    "    Q_mean=pd.DataFrame(df_cms.mean(axis=0)).T\n",
    "    #print(location)\n",
    "    #print(total_suspsed, 'sediment tons per day')\n",
    "    #print(area, 'total drainage area m2')\n",
    "    #print(round(Q_max,0), 'peak flow event in record (cms)')\n",
    "    \n",
    "    return(total_suspsed_T,total_suspsed_A,total_suspsed_Y,df_cms,Q_max,Q_mean)\n"
   ]
  },
  {
   "cell_type": "markdown",
   "metadata": {},
   "source": [
    "## Run the function for Lower Sauk Bias Corrected"
   ]
  },
  {
   "cell_type": "code",
   "execution_count": 71,
   "metadata": {},
   "outputs": [],
   "source": [
    "xls = pd.ExcelFile('SaukRiver_nrSauk_draft_BC.xls')\n",
    "df_bc45 = pd.read_excel(xls, 'daily_cfs_rcp45')\n",
    "df_bc85 = pd.read_excel(xls, 'daily_cfs_rcp85')\n",
    "\n",
    "b0_ls=0.0000025 \n",
    "b1_ls=3.8\n",
    "lowsauk_sed_bcf=1.08\n",
    "lowsauk_location='Lower Sauk - USGS Sauk near Sauk (12189500)  RCP45 '\n",
    "\n",
    "\n",
    "lowsauk_t_bc=pd.DataFrame()\n",
    "lowsauk_a_bc=pd.DataFrame()\n",
    "lowsauk_y_bc=pd.DataFrame()\n",
    "lowsauk_q_bc=pd.DataFrame()\n",
    "lowsauk_qmax_bc=pd.DataFrame()\n",
    "lowsauk_qmean_bc=pd.DataFrame()\n",
    "\n",
    "for df in [df_bc45,df_bc85]:\n",
    "\n",
    "    for time in [time1,time2,time3,time4]:\n",
    "        T,A,Y,q,qmax,qmean=suspsedtransport(df=df,time=time,b0=b0_ls,b1=b1_ls,bcf=lowsauk_sed_bcf,\n",
    "                                  area=area_low,location=lowsauk_location)\n",
    "        lowsauk_t_bc=pd.concat([lowsauk_t_bc,T])\n",
    "        lowsauk_a_bc=pd.concat([lowsauk_a_bc,A])\n",
    "        lowsauk_y_bc=pd.concat([lowsauk_y_bc,Y])\n",
    "        lowsauk_q_bc=pd.concat([lowsauk_q_bc,q])\n",
    "        lowsauk_qmax_bc=pd.concat([lowsauk_qmax_bc,qmax])   \n",
    "        lowsauk_qmean_bc=pd.concat([lowsauk_qmean_bc,qmean])   \n",
    "        \n",
    "lowsauk_t_bc.to_csv('lowsauk_t_bc.csv',header=True)\n",
    "lowsauk_a_bc.to_csv('lowsauk_a_bc.csv',header=True)\n",
    "lowsauk_y_bc.to_csv('lowsauk_y_bc.csv',header=True)\n",
    "lowsauk_q_bc.to_csv('lowsauk_q_bc.csv',header=True)\n",
    "lowsauk_qmax_bc.to_csv('lowsauk_qmax_bc.csv',header=True)\n",
    "lowsauk_qmean_bc.to_csv('lowsauk_qmean_bc.csv',header=True)"
   ]
  },
  {
   "cell_type": "code",
   "execution_count": 72,
   "metadata": {},
   "outputs": [
    {
     "data": {
      "text/html": [
       "<div>\n",
       "<style scoped>\n",
       "    .dataframe tbody tr th:only-of-type {\n",
       "        vertical-align: middle;\n",
       "    }\n",
       "\n",
       "    .dataframe tbody tr th {\n",
       "        vertical-align: top;\n",
       "    }\n",
       "\n",
       "    .dataframe thead th {\n",
       "        text-align: right;\n",
       "    }\n",
       "</style>\n",
       "<table border=\"1\" class=\"dataframe\">\n",
       "  <thead>\n",
       "    <tr style=\"text-align: right;\">\n",
       "      <th></th>\n",
       "      <th>bcc-csm1-1-m</th>\n",
       "      <th>CanESM2</th>\n",
       "      <th>CSIRO-Mk3-6-0</th>\n",
       "      <th>CCSM4</th>\n",
       "      <th>CNRM-CM5</th>\n",
       "      <th>HadGEM2-CC365</th>\n",
       "      <th>HadGEM2-ES365</th>\n",
       "      <th>IPSL-CM5A-MR</th>\n",
       "      <th>NorESM1-M</th>\n",
       "      <th>MIROC5</th>\n",
       "    </tr>\n",
       "  </thead>\n",
       "  <tbody>\n",
       "    <tr>\n",
       "      <th>0</th>\n",
       "      <td>123.789332</td>\n",
       "      <td>123.854114</td>\n",
       "      <td>123.846674</td>\n",
       "      <td>122.709780</td>\n",
       "      <td>123.817483</td>\n",
       "      <td>123.850282</td>\n",
       "      <td>123.865572</td>\n",
       "      <td>123.854941</td>\n",
       "      <td>123.861746</td>\n",
       "      <td>123.941780</td>\n",
       "    </tr>\n",
       "    <tr>\n",
       "      <th>0</th>\n",
       "      <td>124.532751</td>\n",
       "      <td>124.269255</td>\n",
       "      <td>125.244644</td>\n",
       "      <td>109.462359</td>\n",
       "      <td>122.255445</td>\n",
       "      <td>132.284492</td>\n",
       "      <td>121.871839</td>\n",
       "      <td>122.263157</td>\n",
       "      <td>129.170375</td>\n",
       "      <td>124.955940</td>\n",
       "    </tr>\n",
       "    <tr>\n",
       "      <th>0</th>\n",
       "      <td>127.152082</td>\n",
       "      <td>126.690309</td>\n",
       "      <td>130.386925</td>\n",
       "      <td>111.656964</td>\n",
       "      <td>125.469348</td>\n",
       "      <td>128.905842</td>\n",
       "      <td>127.032060</td>\n",
       "      <td>125.887681</td>\n",
       "      <td>137.779625</td>\n",
       "      <td>130.836219</td>\n",
       "    </tr>\n",
       "    <tr>\n",
       "      <th>0</th>\n",
       "      <td>127.049725</td>\n",
       "      <td>129.361130</td>\n",
       "      <td>130.525681</td>\n",
       "      <td>113.292094</td>\n",
       "      <td>129.413462</td>\n",
       "      <td>129.689611</td>\n",
       "      <td>130.361445</td>\n",
       "      <td>130.670694</td>\n",
       "      <td>140.717485</td>\n",
       "      <td>135.445568</td>\n",
       "    </tr>\n",
       "    <tr>\n",
       "      <th>0</th>\n",
       "      <td>123.802584</td>\n",
       "      <td>123.871851</td>\n",
       "      <td>123.809097</td>\n",
       "      <td>122.748516</td>\n",
       "      <td>123.827411</td>\n",
       "      <td>123.824948</td>\n",
       "      <td>123.895998</td>\n",
       "      <td>123.854179</td>\n",
       "      <td>123.884211</td>\n",
       "      <td>123.863435</td>\n",
       "    </tr>\n",
       "    <tr>\n",
       "      <th>0</th>\n",
       "      <td>129.151687</td>\n",
       "      <td>125.244944</td>\n",
       "      <td>123.564436</td>\n",
       "      <td>108.788777</td>\n",
       "      <td>121.631384</td>\n",
       "      <td>125.593342</td>\n",
       "      <td>124.595772</td>\n",
       "      <td>128.682738</td>\n",
       "      <td>129.802503</td>\n",
       "      <td>135.347625</td>\n",
       "    </tr>\n",
       "    <tr>\n",
       "      <th>0</th>\n",
       "      <td>131.491708</td>\n",
       "      <td>129.280598</td>\n",
       "      <td>126.763747</td>\n",
       "      <td>105.225494</td>\n",
       "      <td>125.570973</td>\n",
       "      <td>127.093583</td>\n",
       "      <td>130.091196</td>\n",
       "      <td>137.045310</td>\n",
       "      <td>144.610671</td>\n",
       "      <td>131.476916</td>\n",
       "    </tr>\n",
       "    <tr>\n",
       "      <th>0</th>\n",
       "      <td>132.709383</td>\n",
       "      <td>127.174886</td>\n",
       "      <td>128.601567</td>\n",
       "      <td>111.090644</td>\n",
       "      <td>130.163413</td>\n",
       "      <td>131.219868</td>\n",
       "      <td>123.518062</td>\n",
       "      <td>134.947429</td>\n",
       "      <td>143.458434</td>\n",
       "      <td>135.526383</td>\n",
       "    </tr>\n",
       "  </tbody>\n",
       "</table>\n",
       "</div>"
      ],
      "text/plain": [
       "   bcc-csm1-1-m     CanESM2  CSIRO-Mk3-6-0       CCSM4    CNRM-CM5  \\\n",
       "0    123.789332  123.854114     123.846674  122.709780  123.817483   \n",
       "0    124.532751  124.269255     125.244644  109.462359  122.255445   \n",
       "0    127.152082  126.690309     130.386925  111.656964  125.469348   \n",
       "0    127.049725  129.361130     130.525681  113.292094  129.413462   \n",
       "0    123.802584  123.871851     123.809097  122.748516  123.827411   \n",
       "0    129.151687  125.244944     123.564436  108.788777  121.631384   \n",
       "0    131.491708  129.280598     126.763747  105.225494  125.570973   \n",
       "0    132.709383  127.174886     128.601567  111.090644  130.163413   \n",
       "\n",
       "   HadGEM2-CC365  HadGEM2-ES365  IPSL-CM5A-MR   NorESM1-M      MIROC5  \n",
       "0     123.850282     123.865572    123.854941  123.861746  123.941780  \n",
       "0     132.284492     121.871839    122.263157  129.170375  124.955940  \n",
       "0     128.905842     127.032060    125.887681  137.779625  130.836219  \n",
       "0     129.689611     130.361445    130.670694  140.717485  135.445568  \n",
       "0     123.824948     123.895998    123.854179  123.884211  123.863435  \n",
       "0     125.593342     124.595772    128.682738  129.802503  135.347625  \n",
       "0     127.093583     130.091196    137.045310  144.610671  131.476916  \n",
       "0     131.219868     123.518062    134.947429  143.458434  135.526383  "
      ]
     },
     "execution_count": 72,
     "metadata": {},
     "output_type": "execute_result"
    }
   ],
   "source": [
    "lowsauk_qmean_bc"
   ]
  },
  {
   "cell_type": "code",
   "execution_count": 73,
   "metadata": {},
   "outputs": [
    {
     "data": {
      "text/html": [
       "<div>\n",
       "<style scoped>\n",
       "    .dataframe tbody tr th:only-of-type {\n",
       "        vertical-align: middle;\n",
       "    }\n",
       "\n",
       "    .dataframe tbody tr th {\n",
       "        vertical-align: top;\n",
       "    }\n",
       "\n",
       "    .dataframe thead th {\n",
       "        text-align: right;\n",
       "    }\n",
       "</style>\n",
       "<table border=\"1\" class=\"dataframe\">\n",
       "  <thead>\n",
       "    <tr style=\"text-align: right;\">\n",
       "      <th></th>\n",
       "      <th>bcc-csm1-1-m</th>\n",
       "      <th>CanESM2</th>\n",
       "      <th>CSIRO-Mk3-6-0</th>\n",
       "      <th>CCSM4</th>\n",
       "      <th>CNRM-CM5</th>\n",
       "      <th>HadGEM2-CC365</th>\n",
       "      <th>HadGEM2-ES365</th>\n",
       "      <th>IPSL-CM5A-MR</th>\n",
       "      <th>NorESM1-M</th>\n",
       "      <th>MIROC5</th>\n",
       "    </tr>\n",
       "  </thead>\n",
       "  <tbody>\n",
       "    <tr>\n",
       "      <th>0</th>\n",
       "      <td>1628.726712</td>\n",
       "      <td>1628.726712</td>\n",
       "      <td>1628.726712</td>\n",
       "      <td>2462.276359</td>\n",
       "      <td>1628.726712</td>\n",
       "      <td>1628.726712</td>\n",
       "      <td>1628.726712</td>\n",
       "      <td>1628.726712</td>\n",
       "      <td>1628.726712</td>\n",
       "      <td>1628.726712</td>\n",
       "    </tr>\n",
       "    <tr>\n",
       "      <th>0</th>\n",
       "      <td>2180.518639</td>\n",
       "      <td>1873.242795</td>\n",
       "      <td>1978.243673</td>\n",
       "      <td>2669.250817</td>\n",
       "      <td>1989.011154</td>\n",
       "      <td>1539.869891</td>\n",
       "      <td>2130.694269</td>\n",
       "      <td>2731.663582</td>\n",
       "      <td>1926.149736</td>\n",
       "      <td>3200.856032</td>\n",
       "    </tr>\n",
       "    <tr>\n",
       "      <th>0</th>\n",
       "      <td>1365.367437</td>\n",
       "      <td>2051.686274</td>\n",
       "      <td>1978.243673</td>\n",
       "      <td>3589.735279</td>\n",
       "      <td>2037.099559</td>\n",
       "      <td>2009.988840</td>\n",
       "      <td>2130.694269</td>\n",
       "      <td>3672.425993</td>\n",
       "      <td>2098.383643</td>\n",
       "      <td>3200.856032</td>\n",
       "    </tr>\n",
       "    <tr>\n",
       "      <th>0</th>\n",
       "      <td>1914.465045</td>\n",
       "      <td>2051.686274</td>\n",
       "      <td>1982.521272</td>\n",
       "      <td>3589.735279</td>\n",
       "      <td>2037.099559</td>\n",
       "      <td>2713.290168</td>\n",
       "      <td>2093.528408</td>\n",
       "      <td>3672.425993</td>\n",
       "      <td>2098.383643</td>\n",
       "      <td>2196.979788</td>\n",
       "    </tr>\n",
       "    <tr>\n",
       "      <th>0</th>\n",
       "      <td>1628.726712</td>\n",
       "      <td>1628.726712</td>\n",
       "      <td>1628.726712</td>\n",
       "      <td>2462.276359</td>\n",
       "      <td>1628.726712</td>\n",
       "      <td>1628.726712</td>\n",
       "      <td>1628.726712</td>\n",
       "      <td>1628.726712</td>\n",
       "      <td>1628.726712</td>\n",
       "      <td>1628.726712</td>\n",
       "    </tr>\n",
       "    <tr>\n",
       "      <th>0</th>\n",
       "      <td>1523.932717</td>\n",
       "      <td>1493.376178</td>\n",
       "      <td>1592.232498</td>\n",
       "      <td>1974.101428</td>\n",
       "      <td>1611.917350</td>\n",
       "      <td>2727.385530</td>\n",
       "      <td>1992.891213</td>\n",
       "      <td>2208.015627</td>\n",
       "      <td>1493.376178</td>\n",
       "      <td>1635.993211</td>\n",
       "    </tr>\n",
       "    <tr>\n",
       "      <th>0</th>\n",
       "      <td>3033.490641</td>\n",
       "      <td>1515.580012</td>\n",
       "      <td>1592.232498</td>\n",
       "      <td>1974.101428</td>\n",
       "      <td>1611.917350</td>\n",
       "      <td>2727.385530</td>\n",
       "      <td>2392.810264</td>\n",
       "      <td>2208.015627</td>\n",
       "      <td>1655.808122</td>\n",
       "      <td>2181.300240</td>\n",
       "    </tr>\n",
       "    <tr>\n",
       "      <th>0</th>\n",
       "      <td>3033.490641</td>\n",
       "      <td>1782.857092</td>\n",
       "      <td>1853.017601</td>\n",
       "      <td>2483.971481</td>\n",
       "      <td>2265.427156</td>\n",
       "      <td>2714.427911</td>\n",
       "      <td>2392.810264</td>\n",
       "      <td>2139.978882</td>\n",
       "      <td>1851.006567</td>\n",
       "      <td>2458.260011</td>\n",
       "    </tr>\n",
       "  </tbody>\n",
       "</table>\n",
       "</div>"
      ],
      "text/plain": [
       "   bcc-csm1-1-m      CanESM2  CSIRO-Mk3-6-0        CCSM4     CNRM-CM5  \\\n",
       "0   1628.726712  1628.726712    1628.726712  2462.276359  1628.726712   \n",
       "0   2180.518639  1873.242795    1978.243673  2669.250817  1989.011154   \n",
       "0   1365.367437  2051.686274    1978.243673  3589.735279  2037.099559   \n",
       "0   1914.465045  2051.686274    1982.521272  3589.735279  2037.099559   \n",
       "0   1628.726712  1628.726712    1628.726712  2462.276359  1628.726712   \n",
       "0   1523.932717  1493.376178    1592.232498  1974.101428  1611.917350   \n",
       "0   3033.490641  1515.580012    1592.232498  1974.101428  1611.917350   \n",
       "0   3033.490641  1782.857092    1853.017601  2483.971481  2265.427156   \n",
       "\n",
       "   HadGEM2-CC365  HadGEM2-ES365  IPSL-CM5A-MR    NorESM1-M       MIROC5  \n",
       "0    1628.726712    1628.726712   1628.726712  1628.726712  1628.726712  \n",
       "0    1539.869891    2130.694269   2731.663582  1926.149736  3200.856032  \n",
       "0    2009.988840    2130.694269   3672.425993  2098.383643  3200.856032  \n",
       "0    2713.290168    2093.528408   3672.425993  2098.383643  2196.979788  \n",
       "0    1628.726712    1628.726712   1628.726712  1628.726712  1628.726712  \n",
       "0    2727.385530    1992.891213   2208.015627  1493.376178  1635.993211  \n",
       "0    2727.385530    2392.810264   2208.015627  1655.808122  2181.300240  \n",
       "0    2714.427911    2392.810264   2139.978882  1851.006567  2458.260011  "
      ]
     },
     "execution_count": 73,
     "metadata": {},
     "output_type": "execute_result"
    }
   ],
   "source": [
    "lowsauk_qmax_bc"
   ]
  },
  {
   "cell_type": "markdown",
   "metadata": {},
   "source": [
    "## Run the function for Lower Sauk"
   ]
  },
  {
   "cell_type": "code",
   "execution_count": 74,
   "metadata": {},
   "outputs": [],
   "source": [
    "xls = pd.ExcelFile('SaukRiver_nrSauk_SC2_future.xls')\n",
    "df_bc45 = pd.read_excel(xls, 'daily_cfs_rcp45')\n",
    "df_bc85 = pd.read_excel(xls, 'daily_cfs_rcp85')\n",
    "\n",
    "b0_ls=0.0000025 \n",
    "b1_ls=3.8\n",
    "lowsauk_sed_bcf=1.08\n",
    "lowsauk_location='Lower Sauk - USGS Sauk near Sauk (12189500)  RCP45 '\n",
    "\n",
    "lowsauk_t=pd.DataFrame()\n",
    "lowsauk_a=pd.DataFrame()\n",
    "lowsauk_y=pd.DataFrame()\n",
    "lowsauk_q=pd.DataFrame()\n",
    "lowsauk_qmax=pd.DataFrame()\n",
    "lowsauk_qmean=pd.DataFrame()\n",
    "\n",
    "for df in [df_bc45,df_bc85]:\n",
    "\n",
    "    for time in [time1,time2,time3,time4]:\n",
    "        T,A,Y,q,qmax,qmean=suspsedtransport(df=df,time=time,b0=b0_ls,b1=b1_ls,bcf=lowsauk_sed_bcf,\n",
    "                                  area=area_low,location=lowsauk_location)\n",
    "        lowsauk_t=pd.concat([lowsauk_t,T])\n",
    "        lowsauk_a=pd.concat([lowsauk_a,A])\n",
    "        lowsauk_y=pd.concat([lowsauk_y,Y])\n",
    "        lowsauk_q=pd.concat([lowsauk_q,q])\n",
    "        lowsauk_qmax=pd.concat([lowsauk_qmax,qmax])   \n",
    "        lowsauk_qmean=pd.concat([lowsauk_qmean,qmean]) \n",
    "        \n",
    "lowsauk_t.to_csv('lowsauk_t.csv',header=True)\n",
    "lowsauk_a.to_csv('lowsauk_a.csv',header=True)\n",
    "lowsauk_y.to_csv('lowsauk_y.csv',header=True)\n",
    "lowsauk_q.to_csv('lowsauk_q.csv',header=True)\n",
    "lowsauk_qmax.to_csv('lowsauk_qmax.csv',header=True)\n",
    "lowsauk_qmean.to_csv('lowsauk_qmean.csv',header=True)"
   ]
  },
  {
   "cell_type": "markdown",
   "metadata": {},
   "source": [
    "## Run the function for Middle Sauk"
   ]
  },
  {
   "cell_type": "code",
   "execution_count": 78,
   "metadata": {},
   "outputs": [],
   "source": [
    "xls = pd.ExcelFile('SaukRiver_Darrington_SC2_future.xls')\n",
    "df_bc45 = pd.read_excel(xls, 'daily_cfs_rcp45')\n",
    "df_bc85 = pd.read_excel(xls, 'daily_cfs_rcp85')\n",
    "\n",
    "b0_ms=0.0000757 \n",
    "b1_ms=3.22\n",
    "bcf_ms = 1.25\n",
    "\n",
    "midsauk_location='Sauk - USGS Sauk near Darrington (12187500)  '\n",
    "\n",
    "midsauk_t=pd.DataFrame()\n",
    "midsauk_a=pd.DataFrame()\n",
    "midsauk_y=pd.DataFrame()\n",
    "midsauk_q=pd.DataFrame()\n",
    "midsauk_qmax=pd.DataFrame()\n",
    "midsauk_qmean=pd.DataFrame()\n",
    "\n",
    "for df in [df_bc45,df_bc85]:\n",
    "\n",
    "    for time in [time1,time2,time3,time4]:\n",
    "        T,A,Y,q,qmax,qmean=suspsedtransport(df=df,time=time,b0=b0_ms,b1=b1_ms,bcf=bcf_ms,\n",
    "                                  area=area_mid,location=midsauk_location)\n",
    "        midsauk_t=pd.concat([midsauk_t,T])\n",
    "        midsauk_a=pd.concat([midsauk_a,A])\n",
    "        midsauk_y=pd.concat([midsauk_y,Y])\n",
    "        midsauk_q=pd.concat([midsauk_q,q])\n",
    "        midsauk_qmax=pd.concat([midsauk_qmax,qmax])   \n",
    "        midsauk_qmean=pd.concat([midsauk_qmean,qmean])  \n",
    "\n",
    "        \n",
    "midsauk_t.to_csv('midsauk_t.csv',header=True)\n",
    "midsauk_a.to_csv('midsauk_a.csv',header=True)\n",
    "midsauk_y.to_csv('midsauk_y.csv',header=True)\n",
    "midsauk_q.to_csv('midsauk_q.csv',header=True)\n",
    "midsauk_qmax.to_csv('midsauk_qmax.csv',header=True)\n",
    "midsauk_qmean.to_csv('midsauk_qmean.csv',header=True)"
   ]
  },
  {
   "cell_type": "code",
   "execution_count": null,
   "metadata": {},
   "outputs": [],
   "source": [
    "midsauk_y"
   ]
  },
  {
   "cell_type": "code",
   "execution_count": null,
   "metadata": {},
   "outputs": [],
   "source": [
    "midsauk_qmax"
   ]
  },
  {
   "cell_type": "code",
   "execution_count": null,
   "metadata": {},
   "outputs": [],
   "source": [
    "midsauk_qmean"
   ]
  },
  {
   "cell_type": "code",
   "execution_count": 85,
   "metadata": {},
   "outputs": [],
   "source": [
    "writer = pd.ExcelWriter('SaukSuspendedSediment_09202018.xlsx')\n",
    "\n",
    "lowsauk_y_bc.to_excel(writer,'lowsauk_y_bc',header=True)\n",
    "lowsauk_qmax_bc.to_excel(writer,'lowsauk_qmax_bc',header=True)\n",
    "lowsauk_qmean_bc.to_excel(writer,'lowsauk_qmean_bc',header=True)\n",
    "\n",
    "lowsauk_y.to_excel(writer,'lowsauk_y',header=True)\n",
    "lowsauk_qmax.to_excel(writer,'lowsauk_qmax',header=True)\n",
    "lowsauk_qmean.to_excel(writer,'lowsauk_qmean',header=True)\n",
    "\n",
    "midsauk_y.to_excel(writer,'midsauk_y',header=True)\n",
    "midsauk_qmax.to_excel(writer,'midsauk_qmax',header=True)\n",
    "midsauk_qmean.to_excel(writer,'midsauk_qmean',header=True)\n",
    "\n",
    "writer.save()"
   ]
  },
  {
   "cell_type": "code",
   "execution_count": 83,
   "metadata": {},
   "outputs": [
    {
     "name": "stdout",
     "output_type": "stream",
     "text": [
      "/home/jovyan/work/notebooks/data/d5f1f96849554e03aa98bed5aff36cf7/d5f1f96849554e03aa98bed5aff36cf7/data/contents\r\n"
     ]
    }
   ],
   "source": [
    "!pwd"
   ]
  },
  {
   "cell_type": "code",
   "execution_count": null,
   "metadata": {},
   "outputs": [],
   "source": []
  },
  {
   "cell_type": "code",
   "execution_count": 67,
   "metadata": {},
   "outputs": [
    {
     "name": "stdout",
     "output_type": "stream",
     "text": [
      "1759.16898788 Mean Annual Runoff, [mm]\n",
      "128.946263796 Mean Annual SSL [tons/km2]\n",
      "0.0486589674702 Mean Annual SSL erosion [mm/y] \n",
      "1865.587456 Sauk Drainage Area km2\n"
     ]
    }
   ],
   "source": [
    "Sauk_DA=DHSVMnetwork.total_ca_mean[lowersauk]\n",
    "N_of_days=len(streamflow[lowersauk])\n",
    "\n",
    "Sum_SF=sum(streamflow[lowersauk][1:-1])\n",
    "Mean_Annual_Runoff=(((Sum_SF/N_of_days)*86488*365)/Sauk_DA)*1000 #\n",
    "\n",
    "Sum_Mass_of_SSL=sum(s_ls[1:-1])\n",
    "Mean_Daily_SSL=Sum_Mass_of_SSL/N_of_days\n",
    "Mean_Annual_SSL=Mean_Daily_SSL*365\n",
    "\n",
    "Mean_Annual_SSL_per_area=Mean_Annual_SSL/(Sauk_DA*10**-6)\n",
    "Mean_Annual_SSL_Vol=Mean_Annual_SSL/2.65\n",
    "\n",
    "Mean_Annual_SSL_depth=(Mean_Annual_SSL_Vol/Sauk_DA)*1000\n",
    "\n",
    "\n",
    "print(Mean_Annual_Runoff,'Mean Annual Runoff, [mm]')\n",
    "print(Mean_Annual_SSL_per_area,'Mean Annual SSL [tons/km2]')\n",
    "print(Mean_Annual_SSL_depth,'Mean Annual SSL erosion [mm/y] ')\n",
    "print(Sauk_DA*10**-6,'Sauk Drainage Area km2')"
   ]
  },
  {
   "cell_type": "code",
   "execution_count": 57,
   "metadata": {},
   "outputs": [
    {
     "name": "stdout",
     "output_type": "stream",
     "text": [
      "1184030.65044151 sediment tons per day\n",
      "1192500 total drainage area m2\n",
      "465.2274375 peak flow event in record (cms)\n"
     ]
    }
   ],
   "source": [
    "#  Middle Sauk\n",
    "\n",
    "#Model No. 2.4  \n",
    "b0_ms=0.0000757 \n",
    "b1_ms=3.22\n",
    "bcf_ms = 1.25\n",
    "\n",
    "#daily streamflow input (cms)\n",
    "s_ms=(b0_ms*streamflow[middlesauk]**b1_ms)*bcf_ms   #tons per day\n",
    "\n",
    "print(sum(s_ms[1:-1]), 'sediment tons per day')\n",
    "print(DHSVMnetwork.total_ca_mean[middlesauk], 'total drainage area m2')\n",
    "print(max(streamflow[middlesauk]), 'peak flow event in record (cms)')"
   ]
  },
  {
   "cell_type": "code",
   "execution_count": 61,
   "metadata": {},
   "outputs": [
    {
     "name": "stdout",
     "output_type": "stream",
     "text": [
      "1886.57194771 Mean Annual Runoff, [mm]\n",
      "519.573651306 Mean Annual SSL [tons/km2]\n",
      "0.196065528795 Mean Annual SSL erosion [mm/y] \n",
      "771.660032 Sauk Drainage Area km2\n"
     ]
    }
   ],
   "source": [
    "Sauk_DA=DHSVMnetwork.total_ca_mean[middlesauk-1]\n",
    "N_of_days=len(streamflow[middlesauk])\n",
    "\n",
    "Sum_SF=sum(streamflow[middlesauk][1:-1])\n",
    "Mean_Annual_Runoff=(((Sum_SF/N_of_days)*86488*365)/Sauk_DA)*1000 #\n",
    "\n",
    "Sum_Mass_of_SSL=sum(s_ls[1:-1])\n",
    "Mean_Daily_SSL=Sum_Mass_of_SSL/N_of_days\n",
    "Mean_Annual_SSL=Mean_Daily_SSL*365\n",
    "\n",
    "Mean_Annual_SSL_per_area=Mean_Annual_SSL/(Sauk_DA*10**-6)\n",
    "Mean_Annual_SSL_Vol=Mean_Annual_SSL/2.65\n",
    "\n",
    "Mean_Annual_SSL_depth=(Mean_Annual_SSL_Vol/Sauk_DA)*1000\n",
    "\n",
    "\n",
    "print(Mean_Annual_Runoff,'Mean Annual Runoff, [mm]')\n",
    "print(Mean_Annual_SSL_per_area,'Mean Annual SSL [tons/km2]')\n",
    "print(Mean_Annual_SSL_depth,'Mean Annual SSL erosion [mm/y] ')\n",
    "print(Sauk_DA*10**-6,'Sauk Drainage Area km2')"
   ]
  },
  {
   "cell_type": "code",
   "execution_count": null,
   "metadata": {},
   "outputs": [],
   "source": []
  },
  {
   "cell_type": "markdown",
   "metadata": {},
   "source": [
    "The information, data, or work presented herein was funded in part by the Office of Energy Efficiency and Renewable Energy (EERE), U.S. Department of Energy, under Award Number DE-EE0006506 and the Hydro Research Foundation. Neither the United States Government nor any agency thereof, nor any of their employees, makes and warranty, express or implied, or assumes and legal liability or responsibility for the accuracy, completeness, or usefulness of any information, apparatus, product, or process disclosed, or represents that its use would not infringe privately owned rights. Reference herein to any specific commercial product, process, or service by trade name, trademark, manufacturer, or otherwise does not necessarily constitute or imply its endorsement, recommendation or favoring by the United States Government or any agency thereof. The views and opinions of authors expressed herein do not necessarily state or reflect those of the United States Government or any agency thereof."
   ]
  },
  {
   "cell_type": "markdown",
   "metadata": {},
   "source": [
    "[Disclaimer like this needed for BIA funding]"
   ]
  },
  {
   "cell_type": "markdown",
   "metadata": {},
   "source": [
    "[Christina TO DO - add save back to HydroShare end bits]"
   ]
  },
  {
   "cell_type": "code",
   "execution_count": null,
   "metadata": {},
   "outputs": [],
   "source": []
  }
 ],
 "metadata": {
  "kernelspec": {
   "display_name": "Python 3",
   "language": "python",
   "name": "python3"
  },
  "language_info": {
   "codemirror_mode": {
    "name": "ipython",
    "version": 3
   },
   "file_extension": ".py",
   "mimetype": "text/x-python",
   "name": "python",
   "nbconvert_exporter": "python",
   "pygments_lexer": "ipython3",
   "version": "3.6.5"
  }
 },
 "nbformat": 4,
 "nbformat_minor": 2
}
